{
  "cells": [
    {
      "cell_type": "markdown",
      "metadata": {
        "id": "view-in-github",
        "colab_type": "text"
      },
      "source": [
        "<a href=\"https://colab.research.google.com/github/AdeebZ-tech/Personalised-Cancer-Treatment-Optimal-Control-with-Evolutionary-Algortihm-for-Drug-Administration/blob/main/Patient_B_NSGA2.ipynb\" target=\"_parent\"><img src=\"https://colab.research.google.com/assets/colab-badge.svg\" alt=\"Open In Colab\"/></a>"
      ]
    },
    {
      "cell_type": "code",
      "execution_count": null,
      "metadata": {
        "id": "Ea_XTEjlXHvR"
      },
      "outputs": [],
      "source": []
    },
    {
      "cell_type": "code",
      "execution_count": null,
      "metadata": {
        "colab": {
          "background_save": true,
          "base_uri": "https://localhost:8080/"
        },
        "id": "Q_2DFFgh2ntt",
        "outputId": "009e6838-40fa-4131-b33a-b62fdf3ff964"
      },
      "outputs": [
        {
          "name": "stdout",
          "output_type": "stream",
          "text": [
            "\u001b[2K     \u001b[90m━━━━━━━━━━━━━━━━━━━━━━━━━━━━━━━━━━━━━━━━\u001b[0m \u001b[32m5.6/5.6 MB\u001b[0m \u001b[31m13.1 MB/s\u001b[0m eta \u001b[36m0:00:00\u001b[0m\n",
            "\u001b[?25hCollecting pymoo\n",
            "  Downloading pymoo-0.6.1.1-cp310-cp310-manylinux_2_17_x86_64.manylinux2014_x86_64.whl (4.1 MB)\n",
            "\u001b[2K     \u001b[90m━━━━━━━━━━━━━━━━━━━━━━━━━━━━━━━━━━━━━━━━\u001b[0m \u001b[32m4.1/4.1 MB\u001b[0m \u001b[31m35.3 MB/s\u001b[0m eta \u001b[36m0:00:00\u001b[0m\n",
            "\u001b[?25hRequirement already satisfied: numpy>=1.15 in /usr/local/lib/python3.10/dist-packages (from pymoo) (1.25.2)\n",
            "Requirement already satisfied: scipy>=1.1 in /usr/local/lib/python3.10/dist-packages (from pymoo) (1.11.4)\n",
            "Requirement already satisfied: matplotlib>=3 in /usr/local/lib/python3.10/dist-packages (from pymoo) (3.7.1)\n",
            "Requirement already satisfied: autograd>=1.4 in /usr/local/lib/python3.10/dist-packages (from pymoo) (1.6.2)\n",
            "Collecting cma==3.2.2 (from pymoo)\n",
            "  Downloading cma-3.2.2-py2.py3-none-any.whl (249 kB)\n",
            "\u001b[2K     \u001b[90m━━━━━━━━━━━━━━━━━━━━━━━━━━━━━━━━━━━━━━━━\u001b[0m \u001b[32m249.1/249.1 kB\u001b[0m \u001b[31m22.4 MB/s\u001b[0m eta \u001b[36m0:00:00\u001b[0m\n",
            "\u001b[?25hCollecting alive-progress (from pymoo)\n",
            "  Downloading alive_progress-3.1.5-py3-none-any.whl (75 kB)\n",
            "\u001b[2K     \u001b[90m━━━━━━━━━━━━━━━━━━━━━━━━━━━━━━━━━━━━━━━━\u001b[0m \u001b[32m76.0/76.0 kB\u001b[0m \u001b[31m8.7 MB/s\u001b[0m eta \u001b[36m0:00:00\u001b[0m\n",
            "\u001b[?25hCollecting dill (from pymoo)\n",
            "  Downloading dill-0.3.8-py3-none-any.whl (116 kB)\n",
            "\u001b[2K     \u001b[90m━━━━━━━━━━━━━━━━━━━━━━━━━━━━━━━━━━━━━━━━\u001b[0m \u001b[32m116.3/116.3 kB\u001b[0m \u001b[31m12.7 MB/s\u001b[0m eta \u001b[36m0:00:00\u001b[0m\n",
            "\u001b[?25hCollecting Deprecated (from pymoo)\n",
            "  Downloading Deprecated-1.2.14-py2.py3-none-any.whl (9.6 kB)\n",
            "Requirement already satisfied: future>=0.15.2 in /usr/local/lib/python3.10/dist-packages (from autograd>=1.4->pymoo) (0.18.3)\n",
            "Requirement already satisfied: contourpy>=1.0.1 in /usr/local/lib/python3.10/dist-packages (from matplotlib>=3->pymoo) (1.2.1)\n",
            "Requirement already satisfied: cycler>=0.10 in /usr/local/lib/python3.10/dist-packages (from matplotlib>=3->pymoo) (0.12.1)\n",
            "Requirement already satisfied: fonttools>=4.22.0 in /usr/local/lib/python3.10/dist-packages (from matplotlib>=3->pymoo) (4.53.0)\n",
            "Requirement already satisfied: kiwisolver>=1.0.1 in /usr/local/lib/python3.10/dist-packages (from matplotlib>=3->pymoo) (1.4.5)\n",
            "Requirement already satisfied: packaging>=20.0 in /usr/local/lib/python3.10/dist-packages (from matplotlib>=3->pymoo) (24.0)\n",
            "Requirement already satisfied: pillow>=6.2.0 in /usr/local/lib/python3.10/dist-packages (from matplotlib>=3->pymoo) (9.4.0)\n",
            "Requirement already satisfied: pyparsing>=2.3.1 in /usr/local/lib/python3.10/dist-packages (from matplotlib>=3->pymoo) (3.1.2)\n",
            "Requirement already satisfied: python-dateutil>=2.7 in /usr/local/lib/python3.10/dist-packages (from matplotlib>=3->pymoo) (2.8.2)\n",
            "Collecting about-time==4.2.1 (from alive-progress->pymoo)\n",
            "  Downloading about_time-4.2.1-py3-none-any.whl (13 kB)\n",
            "Collecting grapheme==0.6.0 (from alive-progress->pymoo)\n",
            "  Downloading grapheme-0.6.0.tar.gz (207 kB)\n",
            "\u001b[2K     \u001b[90m━━━━━━━━━━━━━━━━━━━━━━━━━━━━━━━━━━━━━━━━\u001b[0m \u001b[32m207.3/207.3 kB\u001b[0m \u001b[31m22.1 MB/s\u001b[0m eta \u001b[36m0:00:00\u001b[0m\n",
            "\u001b[?25h  Preparing metadata (setup.py) ... \u001b[?25l\u001b[?25hdone\n",
            "Requirement already satisfied: wrapt<2,>=1.10 in /usr/local/lib/python3.10/dist-packages (from Deprecated->pymoo) (1.14.1)\n",
            "Requirement already satisfied: six>=1.5 in /usr/local/lib/python3.10/dist-packages (from python-dateutil>=2.7->matplotlib>=3->pymoo) (1.16.0)\n",
            "Building wheels for collected packages: grapheme\n",
            "  Building wheel for grapheme (setup.py) ... \u001b[?25l\u001b[?25hdone\n",
            "  Created wheel for grapheme: filename=grapheme-0.6.0-py3-none-any.whl size=210078 sha256=a0c21b7e27cf1a459dbf327185a3a16d1c7f19ee0948f73047e438b63cc3a467\n",
            "  Stored in directory: /root/.cache/pip/wheels/01/e1/49/37e6bde9886439057450c494a79b0bef8bbe897a54aebfc757\n",
            "Successfully built grapheme\n",
            "Installing collected packages: grapheme, dill, Deprecated, cma, about-time, alive-progress, pymoo\n",
            "Successfully installed Deprecated-1.2.14 about-time-4.2.1 alive-progress-3.1.5 cma-3.2.2 dill-0.3.8 grapheme-0.6.0 pymoo-0.6.1.1\n",
            "Collecting pymcdm\n",
            "  Downloading pymcdm-1.2.0-py3-none-any.whl (106 kB)\n",
            "\u001b[2K     \u001b[90m━━━━━━━━━━━━━━━━━━━━━━━━━━━━━━━━━━━━━━━━\u001b[0m \u001b[32m106.1/106.1 kB\u001b[0m \u001b[31m2.7 MB/s\u001b[0m eta \u001b[36m0:00:00\u001b[0m\n",
            "\u001b[?25hRequirement already satisfied: numpy in /usr/local/lib/python3.10/dist-packages (from pymcdm) (1.25.2)\n",
            "Requirement already satisfied: scipy in /usr/local/lib/python3.10/dist-packages (from pymcdm) (1.11.4)\n",
            "Requirement already satisfied: matplotlib in /usr/local/lib/python3.10/dist-packages (from pymcdm) (3.7.1)\n",
            "Requirement already satisfied: tabulate in /usr/local/lib/python3.10/dist-packages (from pymcdm) (0.9.0)\n",
            "Requirement already satisfied: contourpy>=1.0.1 in /usr/local/lib/python3.10/dist-packages (from matplotlib->pymcdm) (1.2.1)\n",
            "Requirement already satisfied: cycler>=0.10 in /usr/local/lib/python3.10/dist-packages (from matplotlib->pymcdm) (0.12.1)\n",
            "Requirement already satisfied: fonttools>=4.22.0 in /usr/local/lib/python3.10/dist-packages (from matplotlib->pymcdm) (4.53.0)\n",
            "Requirement already satisfied: kiwisolver>=1.0.1 in /usr/local/lib/python3.10/dist-packages (from matplotlib->pymcdm) (1.4.5)\n",
            "Requirement already satisfied: packaging>=20.0 in /usr/local/lib/python3.10/dist-packages (from matplotlib->pymcdm) (24.0)\n",
            "Requirement already satisfied: pillow>=6.2.0 in /usr/local/lib/python3.10/dist-packages (from matplotlib->pymcdm) (9.4.0)\n",
            "Requirement already satisfied: pyparsing>=2.3.1 in /usr/local/lib/python3.10/dist-packages (from matplotlib->pymcdm) (3.1.2)\n",
            "Requirement already satisfied: python-dateutil>=2.7 in /usr/local/lib/python3.10/dist-packages (from matplotlib->pymcdm) (2.8.2)\n",
            "Requirement already satisfied: six>=1.5 in /usr/local/lib/python3.10/dist-packages (from python-dateutil>=2.7->matplotlib->pymcdm) (1.16.0)\n",
            "Installing collected packages: pymcdm\n",
            "Successfully installed pymcdm-1.2.0\n",
            "Requirement already satisfied: pandas in /usr/local/lib/python3.10/dist-packages (2.0.3)\n",
            "Requirement already satisfied: python-dateutil>=2.8.2 in /usr/local/lib/python3.10/dist-packages (from pandas) (2.8.2)\n",
            "Requirement already satisfied: pytz>=2020.1 in /usr/local/lib/python3.10/dist-packages (from pandas) (2023.4)\n",
            "Requirement already satisfied: tzdata>=2022.1 in /usr/local/lib/python3.10/dist-packages (from pandas) (2024.1)\n",
            "Requirement already satisfied: numpy>=1.21.0 in /usr/local/lib/python3.10/dist-packages (from pandas) (1.25.2)\n",
            "Requirement already satisfied: six>=1.5 in /usr/local/lib/python3.10/dist-packages (from python-dateutil>=2.8.2->pandas) (1.16.0)\n",
            "Requirement already satisfied: numpy in /usr/local/lib/python3.10/dist-packages (1.25.2)\n"
          ]
        }
      ],
      "source": [
        "# Install dependencies\n",
        "!pip install -q amplpy\n",
        "!pip install -U pymoo\n",
        "!pip install pymcdm\n",
        "!pip install pandas\n",
        "!pip install numpy\n"
      ]
    },
    {
      "cell_type": "code",
      "execution_count": null,
      "metadata": {
        "id": "LTm0FUIG995w"
      },
      "outputs": [],
      "source": [
        "from amplpy import AMPL, tools\n",
        "import pandas as pd\n",
        "import numpy as np\n",
        "import matplotlib.pyplot as plt\n",
        "from pymoo.core.problem import Problem\n",
        "from pymoo.optimize import minimize\n",
        "from pymoo.algorithms.moo.nsga2 import NSGA2\n",
        "from pymoo.util.ref_dirs import get_reference_directions\n",
        "from pymoo.termination import get_termination\n",
        "from pymoo.visualization.scatter import Scatter\n",
        "from pymcdm.methods import TOPSIS\n",
        "from pymoo.operators.crossover.sbx import SBX\n",
        "from pymoo.operators.mutation.pm import PM\n",
        "from pymoo.operators.sampling.rnd import FloatRandomSampling\n",
        "\n"
      ]
    },
    {
      "cell_type": "code",
      "execution_count": null,
      "metadata": {
        "id": "hq2Yf1bn2qpZ"
      },
      "outputs": [],
      "source": [
        "ampl = tools.ampl_notebook(\n",
        "    modules=[\"coin\", \"highs\", \"gokestrel\",\"cbc\"], # modules to install\n",
        "    license_uuid=\"1fd4b8a1-bbdd-426f-b7f9-f89a5b106b01\", # license to use\n",
        "    g=globals()) # instantiate AMPL object and register magics"
      ]
    },
    {
      "cell_type": "code",
      "execution_count": null,
      "metadata": {
        "id": "tqDo_WPx2yUV"
      },
      "outputs": [],
      "source": [
        "ampl = AMPL()\n",
        "ampl.eval('reset;')"
      ]
    },
    {
      "cell_type": "code",
      "execution_count": null,
      "metadata": {
        "id": "HKvD90Dl21AJ"
      },
      "outputs": [],
      "source": [
        "ampl.eval('reset;')\n",
        "\n",
        "ampl.eval(r\"\"\"\n",
        "\n",
        "reset;\n",
        "\n",
        "# Terminal time tf, number n of grid, and step size h\n",
        "param tf := 140;\n",
        "param n := 14000;\n",
        "param h := tf / n;\n",
        "\n",
        "# PARAMETERS\n",
        "param a1 := 0.1;\n",
        "param a2 := 0.5;\n",
        "param a3 := 0.06;\n",
        "param b1 := 1.0;\n",
        "param b2 := 1.0;\n",
        "param c1 := 1.0;\n",
        "param c2 := 0.58;\n",
        "param c3 := 1.0;\n",
        "param c4 := 1.0;\n",
        "param d1 := 0.2;\n",
        "param d2 := 1.0;\n",
        "param r1 := 1.7;\n",
        "param r2 := 1.3;\n",
        "param s := 0.33;\n",
        "param alpha := 0.5;\n",
        "param rho := 0.06;\n",
        "\n",
        "param w1 ;\n",
        "param w2 := 1-w1;\n",
        "param umax;\n",
        "\n",
        "#Initial PARAMETERS\n",
        "param N0 := 0.8;\n",
        "param T0 := 0.3;\n",
        "param I0 := 0.15;\n",
        "param M0 := 0;\n",
        "\n",
        "\n",
        "#### State variables ###########\n",
        "var N{i in 0..n} >= 0;\n",
        "s.t. lN0: N[0] = N0;\n",
        "s.t. etaN{i in 0..n}: N[i] >= 0.74;\n",
        "\n",
        "var T{i in 0..n} >= 0;\n",
        "s.t. lT0: T[0] = T0;\n",
        "\n",
        "var I{i in 0..n} >= 0;\n",
        "s.t. lI0: I[0] = I0;\n",
        "\n",
        "var M{i in 0..n} >= 0;\n",
        "s.t. lM0: M[0] = M0;\n",
        "\n",
        "var int{i in 0..n};\n",
        "s.t. lint0: int[0] = 0;\n",
        "\n",
        "\n",
        "\n",
        "##### Control variables and constraints #########\n",
        "\n",
        "var u{i in 0..n} >= 0, <= umax;\n",
        "\n",
        "\n",
        "# Right-hand sides of ODEs\n",
        "\n",
        "var fN{i in 0..n} = r2 * N[i] * (1 - b2 * N[i]) - c4 * T[i] * N[i] - a3 * (1 - exp(-M[i]))*N[i];\n",
        "\n",
        "var fT{i in 0..n} = r1 * T[i] * (1 - b1 * T[i]) - c2 * I[i] * T[i] - c3 * T[i] * N[i] - a2 * (1 - exp(-M[i])) * T[i];\n",
        "\n",
        "var fI{i in 0..n} = s + rho * I[i] * T[i] / alpha + T[i] - c1 * I[i] * T[i] - d1 * I[i] - a1 * (1 - exp(-M[i])) * I[i];\n",
        "\n",
        "var fM{i in 0..n} = u[i] - d2*M[i];\n",
        "\n",
        "\n",
        "\n",
        "## Cost function\n",
        "var fint{i in 0..n} = w1 * T[i] + w2 * M[i];\n",
        "\n",
        "# Objective\n",
        "minimize obj: int[n];\n",
        "\n",
        "## ODEs:  Euler\n",
        "s.t. lambda_N{i in 0..n-1}: N[i+1] = N[i] + h * fN[i+1];\n",
        "s.t. lambda_T{i in 0..n-1}: T[i+1] = T[i] + h * fT[i+1];\n",
        "s.t. lambda_I{i in 0..n-1}: I[i+1] = I[i] + h * fI[i+1];\n",
        "s.t. lambda_M{i in 0..n-1}: M[i+1] = M[i] + h * fM[i+1];\n",
        "\n",
        "s.t. lambda_int{i in 0..n-1}: int[i+1] = int[i] + h * fint[i+1];\n",
        "\n",
        "option abs_boundtol 1;\n",
        "\n",
        "\"\"\")\n",
        "\n"
      ]
    },
    {
      "cell_type": "code",
      "execution_count": null,
      "metadata": {
        "id": "Sql2Tvzw-dHA"
      },
      "outputs": [],
      "source": [
        "# Define the objective function\n",
        "def objective_function(umax, w1):\n",
        "    print(f\"w1: {w1}, umax: {umax}\")  # Print the values of w1 and umax\n",
        "\n",
        "    ampl.param['umax'] = umax\n",
        "    ampl.param['w1'] = w1\n",
        "\n",
        "    ampl.option['solver'] = 'ipopt'\n",
        "    ampl.eval('option ipopt_options \"max_iter=2000 tol=1e-8\";')\n",
        "    ampl.solve(verbose=False)\n",
        "\n",
        "    if ampl.get_value('solve_result') == 'solved':\n",
        "        print(\"Optimal Solution Found\")\n",
        "\n",
        "        ampl.eval('display obj, T[n], M[n];')\n",
        "\n",
        "        data_T = ampl.get_data('T')\n",
        "        df1 = pd.DataFrame(data_T, columns=['index0', 'T'])\n",
        "        T = df1['T'].sum()\n",
        "\n",
        "        data_M = ampl.get_data('M')\n",
        "        df2 = pd.DataFrame(data_M, columns=['index0', 'M'])\n",
        "        M = df2['M'].sum()\n",
        "\n",
        "\n",
        "        data_N = ampl.get_data('N')\n",
        "        df3 = pd.DataFrame(data_N, columns=['index0', 'N'])\n",
        "        N = df3['N'].min()\n",
        "\n",
        "        f1 = T\n",
        "        f2 = M\n",
        "\n",
        "        g1 = 0.74 - N\n",
        "\n",
        "        return [f1, f2, g1]\n",
        "    else:\n",
        "        print(\"Optimal Solution NOT Found\")\n",
        "        return [float('inf'), float('inf'), float('inf')]\n"
      ]
    },
    {
      "cell_type": "code",
      "execution_count": null,
      "metadata": {
        "id": "AqE9ZH---3xY"
      },
      "outputs": [],
      "source": [
        "# Define the problem class for pymoo\n",
        "class MyProblem(Problem):\n",
        "    def __init__(self):\n",
        "        super().__init__(n_var=2,  # specify number of decision variables\n",
        "                         n_obj=2,  # specify number of objectives\n",
        "                         n_ieq_constr=1,  # specify number of constraints\n",
        "                         xl=np.array([0, 0]),  # specify lower bounds of decision variables\n",
        "                         xu=np.array([1, 1]))  # specify upper bounds of decision variables\n",
        "\n",
        "    def _evaluate(self, X, out, *args, **kwargs):\n",
        "        F = np.empty((X.shape[0], 2))\n",
        "        G = np.empty((X.shape[0], 1))\n",
        "        for i in range(X.shape[0]):\n",
        "            umax = X[i, 0]\n",
        "            w1 = X[i, 1]\n",
        "            f1, f2, g1 = objective_function(umax, w1)\n",
        "            F[i, 0] = f1\n",
        "            F[i, 1] = f2\n",
        "            G[i, 0] = g1\n",
        "\n",
        "        out[\"F\"] = F\n",
        "        out[\"G\"] = G\n"
      ]
    },
    {
      "cell_type": "code",
      "execution_count": null,
      "metadata": {
        "id": "m2xdPkd9_SDJ"
      },
      "outputs": [],
      "source": [
        "# Initialize the problem\n",
        "problem = MyProblem()\n",
        "\n",
        "# Termination criteria\n",
        "termination = get_termination(\"n_gen\", 10)\n",
        "\n",
        "# Define algorithms to test\n",
        "algorithms = [NSGA2(pop_size=50,  # A moderate population size\n",
        "    n_offsprings=20,  # Generate offspring at 40% of the population size\n",
        "    sampling=FloatRandomSampling(),  # Sampling for continuous variables\n",
        "    crossover=SBX(prob=0.9, eta=20),  # Crossover for continuous variables\n",
        "    mutation=PM(eta=20),  # Mutation for continuous variables\n",
        "    eliminate_duplicates=True)  # Maintain diversity),\n",
        "    #NSGA3(ref_dirs=get_reference_directions(\"das-dennis\", 2, n_partitions=12)),\n",
        "    #AGEMOEA2()\n",
        "]\n",
        "\n"
      ]
    },
    {
      "cell_type": "code",
      "execution_count": null,
      "metadata": {
        "colab": {
          "background_save": true
        },
        "id": "pQIx-AZe_vc0"
      },
      "outputs": [],
      "source": [
        "# Perform optimization with each algorithm\n",
        "results = []\n",
        "for algo in algorithms:\n",
        "    print(f\"******** {type(algo).__name__} ********\")\n",
        "    res = minimize(problem,\n",
        "                   algorithm=algo,\n",
        "                   termination=termination,\n",
        "                   seed=1,\n",
        "                   save_history=True,\n",
        "                   verbose=True)\n",
        "    results.append(res)\n",
        "\n",
        "    # Extract the W1 values from the final population\n",
        "    w1_values = res.X[:, 1]\n",
        "    print(f\"w1 values: {w1_values}\")\n",
        "\n",
        "    # Calculate the W2 values\n",
        "    w2_values = 1 - w1_values\n",
        "    print(f\"w2 values: {w2_values}\")\n"
      ]
    },
    {
      "cell_type": "code",
      "execution_count": null,
      "metadata": {
        "id": "GYXPQWxhzlZd"
      },
      "outputs": [],
      "source": [
        "from ma\n",
        "plot = Scatter()\n",
        "plot.add(problem.pareto_front(), plot_type=\"line\", color=\"black\", alpha=0.7)\n",
        "plot.add(res.F, facecolor=\"none\", edgecolor=\"blue\")\n",
        "plot.show()"
      ]
    },
    {
      "cell_type": "code",
      "execution_count": null,
      "metadata": {
        "id": "5mZ1C26edon8"
      },
      "outputs": [],
      "source": [
        "ret = [np.min(e.pop.get(\"F\")) for e in res.history]\n",
        "\n",
        "plt.plot(np.arange(len(ret)), ret, label=\"nsga2\")\n",
        "plt.title(\"Convergence\")\n",
        "plt.xlabel(\"Generation\")\n",
        "plt.ylabel(\"F\")\n",
        "plt.legend()\n",
        "plt.show()"
      ]
    },
    {
      "cell_type": "code",
      "execution_count": null,
      "metadata": {
        "id": "YycwvQ6GEUVe"
      },
      "outputs": [],
      "source": [
        "## Apply TOPSIS\n",
        "\n",
        "F = res.F\n",
        "G = res.G\n",
        "\n",
        "# Normalize the objective function and constraint violation values\n",
        "F_norm = (F - F.min(axis=0)) / (F.max(axis=0) - F.min(axis=0))\n",
        "G_norm = (G - G.min(axis=0)) / (G.max(axis=0) - G.min(axis=0))\n",
        "\n",
        "# Calculate the weighted sum of the objective function values\n",
        "weighted_sum = w1_values[:, None] * F_norm[:, 0] + w2_values[:, None] * F_norm[:, 1]\n",
        "\n",
        "# Find the index of the best solution\n",
        "best_idx = np.argmin(weighted_sum)\n",
        "\n",
        "# Print the best solution\n",
        "print(f\"Best solution:\")\n",
        "print(f\"  W1 value: {w1_values[best_idx]}\")\n",
        "print(f\"  W2 value: {w2_values[best_idx]}\")\n",
        "print(f\"  Objective function values: {F[best_idx]}\")\n",
        "print(f\"  Constraint violation values: {G[best_idx]}\")\n",
        "\n",
        "# Plot the Pareto front and mark the best solution\n",
        "plt.scatter([ind[0] for ind in F], [ind[1] for ind in F], color='blue', label='Pareto front')\n",
        "plt.scatter(F[best_idx][0], F[best_idx][1], marker='x', color='red', s=200, label='Best solution')\n",
        "\n",
        "plt.xlabel('F1')\n",
        "plt.ylabel('F2')\n",
        "plt.legend()\n",
        "plt.title('Pareto Front')\n",
        "plt.show()"
      ]
    },
    {
      "cell_type": "code",
      "execution_count": null,
      "metadata": {
        "id": "H2EPbWXABvJ2"
      },
      "outputs": [],
      "source": [
        "# Extract the W1 values from the final population\n",
        "w1_values = res.X[:, 1]\n",
        "\n",
        "# Calculate the W2 values\n",
        "w2_values = 1 - w1_values\n",
        "\n",
        "## Apply TOPSIS\n",
        "\n",
        "F = res.F\n",
        "G = res.G\n",
        "\n",
        "# Normalize the objective function and constraint violation values\n",
        "F_norm = (F - F.min(axis=0)) / (F.max(axis=0) - F.min(axis=0))\n",
        "G_norm = (G - G.min(axis=0)) / (G.max(axis=0) - G.min(axis=0))\n",
        "\n",
        "# Calculate the weighted sum of the objective function values\n",
        "weighted_sum = w1_values[:, None] * F_norm[:, 0] + w2_values[:, None] * F_norm[:, 1]\n",
        "\n",
        "# Find the best solution (closest to the ideal point): np.linalg.norm() to calculate the Euclidean distance\n",
        "ideal_point = np.min(F_norm, axis=0)\n",
        "distances = np.linalg.norm(F_norm - ideal_point[None, :], axis=1)\n",
        "best_idx = np.argmin(distances)\n",
        "\n",
        "# Print the best solution\n",
        "print(f\"Best solution:\")\n",
        "print(f\"  W1 value: {w1_values[best_idx]}\")\n",
        "print(f\"  W2 value: {w2_values[best_idx]}\")\n",
        "print(f\"  Objective function values: {F[best_idx]}\")\n",
        "print(f\"  Constraint violation values: {G[best_idx]}\")\n",
        "\n",
        "# Plot the Pareto front and mark the best solution\n",
        "plt.figure(figsize=(8, 6))\n",
        "plt.scatter(F[:, 0], F[:, 1], color='blue', label='Pareto front')\n",
        "plt.scatter(F[best_idx][0], F[best_idx][1], marker='x', color='red', s=200, label='Best solution')\n",
        "\n",
        "plt.xlabel('F1')\n",
        "plt.ylabel('F2')\n",
        "plt.legend()\n",
        "plt.title('Pareto Front')\n",
        "plt.show()"
      ]
    },
    {
      "cell_type": "code",
      "execution_count": null,
      "metadata": {
        "id": "Gt4P41h4BvJ2"
      },
      "outputs": [],
      "source": [
        "from pymoo.indicators.hv import HV\n",
        "\n",
        "# Calculate the utopian point\n",
        "utopian_point = np.min(F, axis=0)\n",
        "print(f\"Utopian point: {utopian_point}\")\n",
        "\n",
        "# Create the Hypervolume instance and compute the hypervolume\n",
        "hv = HV(ref_point=utopian_point + 0.1)\n",
        "hv_value = hv.do(F_norm)\n",
        "print(f\"Hypervolume: {hv_value}\")"
      ]
    }
  ],
  "metadata": {
    "colab": {
      "provenance": [],
      "authorship_tag": "ABX9TyMEQAr8Y7yLG7wS8pAJBWAk",
      "include_colab_link": true
    },
    "kernelspec": {
      "display_name": "Python 3",
      "name": "python3"
    },
    "language_info": {
      "name": "python"
    }
  },
  "nbformat": 4,
  "nbformat_minor": 0
}